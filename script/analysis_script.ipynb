{
 "cells": [
  {
   "cell_type": "markdown",
   "metadata": {},
   "source": [
    "**Introduction and Overview of the Stock Market Index Analysis Project**\n",
    "\n",
    "In our project, we're analyzing a year's worth of financial data from a top data analytics website. We're exploring the performance of key companies, their categorization as LargeCap or Non-LargeCap, and the metrics of nine important indexes. We aim to gain valuable insights for informed decision-making in the financial sector by examining ratings, prices, and fluctuation rates. We aim to create compelling visualizations using Python to dive into specifics for each index and company and extract meaningful insights for strategic planning and improved decision-making.\n",
    "\n",
    "Three major companies: DJ, NASDAQ, and SNP.\n",
    "\n",
    "DJ and NASDAQ fall under Non-LargeCap, while SNP belongs to LargeCap.\n",
    "\n",
    "A total of 9 indexes:\n",
    "\n",
    "\t-> DJ : 'D30', 'DSI', 'IA’\n",
    "\t-> SNP : '400', '500', '300’\n",
    "\t-> NASDAQ: 'SOX', 'NDX', 'NQGI’\n",
    "    \n",
    "Key Metrics\n",
    "\n",
    "\t-> Ratings: Measure of company performance.\n",
    "\t-> Prices: Financial value of each index.\n",
    "\t-> Fluctuation Rate: Indicates the volatility of each index."
   ]
  },
  {
   "cell_type": "code",
   "execution_count": null,
   "metadata": {
    "colab": {
     "base_uri": "https://localhost:8080/"
    },
    "id": "EvnA5Cm1VReo",
    "outputId": "bcc1fa51-7746-49ee-cf6d-02557497a568"
   },
   "outputs": [],
   "source": [
    "# Definition of the Index class representing a generic financial index\n",
    "class Index:\n",
    "    def __init__(self, date, index_name, company, type, rating, price, fluct_rate):\n",
    "        self.date = date\n",
    "        self.index_name = index_name\n",
    "        self.company = company\n",
    "        self.type = type\n",
    "        self.rating = rating\n",
    "        self.price = price\n",
    "        self.fluct_rate = fluct_rate\n",
    "        self.unique_id = id(self)\n",
    "\n",
    "    def __str__(self):\n",
    "        return f\"{self.unique_id},{self.date},{self.index_name},{self.company},{self.type},{self.rating},{self.price},{self.fluct_rate}\"\n",
    "\n",
    "# Definition of LargeCapIndex as a subclass of Index, inheriting its attributes\n",
    "class LargeCapIndex(Index):\n",
    "    def __init__(self, date, index_name, company, rating, price, fluct_rate):\n",
    "        super().__init__(date, index_name, company, \"LargeCap\", rating, price, fluct_rate)\n",
    "\n",
    "# Definition of NonLargeCapIndex as a subclass of Index, inheriting its attributes\n",
    "class NonLargeCapIndex(Index):\n",
    "    def __init__(self, date, index_name, company, rating, price, fluct_rate):\n",
    "        super().__init__(date, index_name, company, \"non-LargeCap\", rating, price, fluct_rate)\n",
    "\n",
    "# Definition of SNP as a subclass of LargeCapIndex, inherited from both LargeCapIndex and Index\n",
    "class SNP(LargeCapIndex):\n",
    "    def __init__(self, date, index_name, rating, price, fluct_rate):\n",
    "        super().__init__(date, index_name, \"SNP\", rating, price, fluct_rate)\n",
    "\n",
    "# Definition of DJ as a subclass of NonLargeCapIndex, inherited from both NonLargeCapIndex and Index\n",
    "class DJ(NonLargeCapIndex):\n",
    "    def __init__(self, date, index_name, rating, price, fluct_rate):\n",
    "        super().__init__(date, index_name, \"DJ\", rating, price, fluct_rate)\n",
    "\n",
    "# Definition of NASDAQ as a subclass of NonLargeCapIndex, inherited from both NonLargeCapIndex and Index\n",
    "class NASDAQ(NonLargeCapIndex):\n",
    "    def __init__(self, date, index_name, rating, price, fluct_rate):\n",
    "        super().__init__(date, index_name, \"NASDAQ\", rating, price, fluct_rate)\n",
    "\n",
    "# Testing the DJ class\n",
    "DJIndex = DJ(\"2022-11-15\", \"index_nameA\", 2, 641, 86.06)\n",
    "print(str(DJIndex))\n"
   ]
  },
  {
   "cell_type": "code",
   "execution_count": null,
   "metadata": {
    "id": "N0z1oLwsVzvA"
   },
   "outputs": [],
   "source": [
    "# Importing required libraries and extracting the objects from the .dat binary file and loading into data.csv file\n",
    "\n",
    "import pickle\n",
    "import csv\n",
    "\n",
    "with open('Indexpkl50209.dat', 'rb') as pickle_file:\n",
    "    try:\n",
    "        while(True):\n",
    "            disp = pickle.load(pickle_file)\n",
    "            with open('data.csv', 'w') as f:\n",
    "                f.write(\"uniqueId,date,index_name,company,type,rating,price,fluct_rate\\n\")\n",
    "                for obj in disp:\n",
    "                     f.write(str(obj)+'\\n')\n",
    "    except EOFError:\n",
    "        pass"
   ]
  },
  {
   "cell_type": "code",
   "execution_count": null,
   "metadata": {
    "colab": {
     "base_uri": "https://localhost:8080/",
     "height": 424
    },
    "id": "AxM0Hw1TfJAb",
    "outputId": "722cec33-db79-4d64-9454-e65a9c5871e7"
   },
   "outputs": [],
   "source": [
    "# Importing required libraries and reading the csv file created into stock_data data set variable\n",
    "\n",
    "import pandas as pd\n",
    "import numpy as np\n",
    "import matplotlib.pyplot as plt\n",
    "import seaborn as sns\n",
    "\n",
    "stock_data = pd.read_csv(\"data.csv\")\n",
    "stock_data = stock_data[0:10000]\n",
    "stock_data"
   ]
  },
  {
   "cell_type": "code",
   "execution_count": null,
   "metadata": {
    "colab": {
     "base_uri": "https://localhost:8080/"
    },
    "id": "H3DFobIef3Ou",
    "outputId": "5c509949-88ac-4215-e3bc-a14b72804a11"
   },
   "outputs": [],
   "source": [
    "# Overview of the Data set \n",
    "\n",
    "stock_data.info()"
   ]
  },
  {
   "cell_type": "code",
   "execution_count": null,
   "metadata": {
    "colab": {
     "base_uri": "https://localhost:8080/"
    },
    "id": "4S6YFPlJgJz9",
    "outputId": "e15cf2c6-94ca-4530-b44d-4390367a4e63"
   },
   "outputs": [],
   "source": [
    "# Checking for any nulls\n",
    "\n",
    "stock_data.isna().sum()\n",
    "#stock_data.isnull().sum() -- same output"
   ]
  },
  {
   "cell_type": "code",
   "execution_count": null,
   "metadata": {
    "colab": {
     "base_uri": "https://localhost:8080/"
    },
    "id": "0_WNuIajhVBL",
    "outputId": "9e050bad-107d-4981-c39c-aa80e0563c06"
   },
   "outputs": [],
   "source": [
    "# Examining statistical measures \n",
    "\n",
    "print(stock_data['date'].mode()[0])\n",
    "print('------------------------------------')\n",
    "print(round(stock_data.groupby('index_name')['rating'].mean()))\n",
    "print('------------------------------------')\n",
    "print(round(stock_data['rating'].mean()))\n",
    "print('------------------------------------')\n",
    "print(round(stock_data.groupby('index_name')['price'].mean()))\n",
    "print('------------------------------------')\n",
    "print(round(stock_data['price'].mean()))\n",
    "print('------------------------------------')\n",
    "print(round(stock_data.groupby('index_name')['fluct_rate'].mean(),2))\n",
    "print('------------------------------------')\n",
    "print(round(stock_data['fluct_rate'].mean(),2))"
   ]
  },
  {
   "cell_type": "code",
   "execution_count": null,
   "metadata": {
    "id": "FUvDQnP3iSsk"
   },
   "outputs": [],
   "source": [
    "# Cleaning columns with null values with the statistical measure values\n",
    "\n",
    "cols = ['date','rating']\n",
    "\n",
    "for column in cols:\n",
    "    if(column == 'date'):\n",
    "        stock_data[column].fillna(stock_data[column].mode()[0], inplace=True)\n",
    "    elif(column == 'rating'):\n",
    "        stock_data[column].fillna(round(stock_data[column].mean()), inplace=True)\n",
    "\n",
    "stock_data['price'] = stock_data.groupby('index_name')['price'].transform(lambda x: x.fillna(int(round(x.mean()))))\n",
    "stock_data['fluct_rate'] = stock_data.groupby('index_name')['fluct_rate'].transform(lambda x: x.fillna(round(x.mean(),2)))"
   ]
  },
  {
   "cell_type": "code",
   "execution_count": null,
   "metadata": {
    "colab": {
     "base_uri": "https://localhost:8080/"
    },
    "id": "kqtLgFoGkifO",
    "outputId": "d2d510f6-e557-4733-abe4-9e59da941be5"
   },
   "outputs": [],
   "source": [
    "# Checking for any nulls\n",
    "\n",
    "stock_data.isna().sum()"
   ]
  },
  {
   "cell_type": "code",
   "execution_count": null,
   "metadata": {
    "colab": {
     "base_uri": "https://localhost:8080/",
     "height": 424
    },
    "id": "ZLVh0zoVlD9u",
    "outputId": "a2edd78a-10c4-43f7-8508-40ef8757b216"
   },
   "outputs": [],
   "source": [
    "# Cleaned Data set\n",
    "\n",
    "stock_data"
   ]
  },
  {
   "cell_type": "code",
   "execution_count": null,
   "metadata": {
    "colab": {
     "base_uri": "https://localhost:8080/",
     "height": 521
    },
    "id": "DDcF-UYIkHa4",
    "outputId": "1e13fe55-5c76-44f2-edb4-dee001941541"
   },
   "outputs": [],
   "source": [
    "# Pie Chart 1\n",
    "\n",
    "# Create a figure for the pie chart with a specified size\n",
    "plt.figure(figsize=(6, 6))\n",
    "\n",
    "# Generate a pie chart using the 'type' column counts from the 'stock_data' DataFrame\n",
    "# The slices will be labeled with the unique values in the 'type' column\n",
    "# The autopct parameter displays the percentage on each slice with one decimal place\n",
    "# The startangle parameter sets the starting angle for the first slice to 90 degrees (vertical)\n",
    "plt.pie(stock_data['type'].value_counts(), labels=stock_data['type'].value_counts().index, autopct='%1.1f%%', startangle=90)\n",
    "\n",
    "# Set the title of the pie chart\n",
    "plt.title('Pie Chart: Distribution of Market Type')\n",
    "\n",
    "# Display the pie chart\n",
    "plt.show()\n"
   ]
  },
  {
   "cell_type": "code",
   "execution_count": null,
   "metadata": {
    "colab": {
     "base_uri": "https://localhost:8080/",
     "height": 367
    },
    "id": "h22eMIS1pNDw",
    "outputId": "b91a4882-9fbc-4601-f83b-7e1fed084fd6"
   },
   "outputs": [],
   "source": [
    "# Pie Chart 2\n",
    "\n",
    "# Filter the 'stock_data' DataFrame to include only rows where the 'type' column is 'LargeCap'\n",
    "large_cap_data = stock_data[(stock_data['type'] == 'LargeCap')]\n",
    "\n",
    "# Create a figure for the pie chart with a specified size\n",
    "plt.figure(figsize=(4, 4))\n",
    "\n",
    "# Generate a pie chart using the counts of 'index_name' values from the filtered 'large_cap_data' DataFrame\n",
    "# The slices will be labeled with the unique values in the 'index_name' column\n",
    "# The autopct parameter displays the percentage on each slice with one decimal place\n",
    "# The startangle parameter sets the starting angle for the first slice to 90 degrees (vertical)\n",
    "plt.pie(large_cap_data['index_name'].value_counts(), labels=large_cap_data['index_name'].value_counts().index, autopct='%1.1f%%', startangle=90, colors=plt.cm.Paired.colors)\n",
    "\n",
    "# Set the title of the pie chart\n",
    "plt.title('Pie Chart: Distribution of SNP Indexes')\n",
    "\n",
    "# Display the pie chart\n",
    "plt.show()\n"
   ]
  },
  {
   "cell_type": "markdown",
   "metadata": {},
   "source": [
    "**Observations and Insights from the Pie Charts:**\n",
    "\n",
    "Pie Chart 1: Illustrates the distribution of data across two distinct company/market types and the corresponding market share held by each. Notably, a limited number of companies operate with substantial capital, whereas a more significant presence is observed among mid-sized and smaller companies operating at moderate and lower capital levels.\n",
    "\n",
    "Pie Chart 2: Depicts the distribution of data within the SNP large-cap company indexes (300, 400, 500). Impressively, the allocation across these indexes within the SNP large-cap company realm appears to be relatively equitable, suggesting a balanced distribution of market representation among the specified indexes."
   ]
  },
  {
   "cell_type": "code",
   "execution_count": null,
   "metadata": {
    "colab": {
     "base_uri": "https://localhost:8080/",
     "height": 564
    },
    "id": "uexUGJzBx-sl",
    "outputId": "3c5f1b01-aab6-447b-e3ff-dc9c56fa6d71"
   },
   "outputs": [],
   "source": [
    "# Box Plot\n",
    "\n",
    "# Create a figure for the box plot with a specified size\n",
    "plt.figure(figsize=(10, 6))\n",
    "\n",
    "# Generate a box plot using Seaborn, where 'company' is on the x-axis and 'rating' is on the y-axis\n",
    "# The data is drawn from the 'stock_data' DataFrame\n",
    "sns.boxplot(x=stock_data['company'], y=stock_data['rating'], data=stock_data, palette='Set2')\n",
    "\n",
    "# Set the title of the box plot\n",
    "plt.title('Box Plot of Rating by Company Type')\n",
    "\n",
    "# Set labels for x and y axes\n",
    "plt.xlabel('Company')\n",
    "plt.ylabel('Rating')\n",
    "\n",
    "# Display the box plot\n",
    "plt.show()\n"
   ]
  },
  {
   "cell_type": "markdown",
   "metadata": {},
   "source": [
    "**Observations and Insights from the Box Plot:**\n",
    "\n",
    "- All companies share a median rating of 3.0, indicating similar central tendencies.\n",
    "\n",
    "- Consistent and uniform data distribution within each company.\n",
    "\n",
    "- Identical interquartile ranges and whiskers suggest equal data variability.\n",
    "\n",
    "- Absence of outliers implies a lack of extreme values.\n",
    "\n",
    "- Statistical analysis may not reveal significant variations in central tendency, spread, or distribution shape across the three companies based on rating alone."
   ]
  },
  {
   "cell_type": "code",
   "execution_count": null,
   "metadata": {
    "colab": {
     "base_uri": "https://localhost:8080/",
     "height": 1000
    },
    "id": "--X3YEUXvIiu",
    "outputId": "cce491a5-f9e3-4602-a089-e5fecd410613"
   },
   "outputs": [],
   "source": [
    "# Generic data frame preparation to be used further in the visualizations\n",
    "\n",
    "# Segregating the data according to each index\n",
    "\n",
    "#DJ\n",
    "dj_data = stock_data[stock_data['company'] == 'DJ']\n",
    "\n",
    "#NASDAQ\n",
    "nasdaq_data = stock_data[stock_data['company'] == 'NASDAQ']\n",
    "\n",
    "#SNP\n",
    "snp_data = stock_data[stock_data['company'] == 'SNP']\n",
    "\n",
    "# This step is done to break the date column into months ,year and quarter to be used further in the visualizations\n",
    "# Assigning the 'stock_data' DataFrame to a new variable 'stock'\n",
    "stock = stock_data\n",
    "\n",
    "# Converting 'date' to datetime\n",
    "stock['date'] = pd.to_datetime(stock['date'])\n",
    "\n",
    "# Extract month from the 'date' column\n",
    "stock['month'] = stock['date'].dt.month\n",
    "\n",
    "# Extract year from the 'date' column\n",
    "stock['year'] = stock['date'].dt.year\n",
    "\n",
    "# Extract quarter from the 'date' column\n",
    "stock['quarter'] = stock['date'].dt.to_period(\"Q\")\n"
   ]
  },
  {
   "cell_type": "code",
   "execution_count": null,
   "metadata": {
    "colab": {
     "base_uri": "https://localhost:8080/",
     "height": 383
    },
    "id": "U81DeBlDwRJ-",
    "outputId": "9a04436a-449f-46d6-e424-4922331a07cd"
   },
   "outputs": [],
   "source": [
    "# Group by 'index_name', 'quarter', and 'year', then calculate the mean of 'price'\n",
    "result = stock.groupby(['index_name', 'quarter', 'year'])['fluct_rate'].mean().reset_index()\n",
    "\n",
    "# Filtered dataframe using quarter, index name, and fluct rate to create a heatmap\n",
    "\n",
    "quarter_index_fluctrate_data = [\n",
    "    # Quarter 1\n",
    "    [result[(result.quarter == '2022Q1') & (result.index_name == '300')].fluct_rate,\n",
    "     result[(result.quarter == '2022Q1') & (result.index_name == '400')].fluct_rate,\n",
    "     result[(result.quarter == '2022Q1') & (result.index_name == '500')].fluct_rate,\n",
    "     result[(result.quarter == '2022Q1') & (result.index_name == 'D30')].fluct_rate,\n",
    "     result[(result.quarter == '2022Q1') & (result.index_name == 'IA')].fluct_rate,\n",
    "     result[(result.quarter == '2022Q1') & (result.index_name == 'DSI')].fluct_rate,\n",
    "     result[(result.quarter == '2022Q1') & (result.index_name == 'NQGI')].fluct_rate,\n",
    "     result[(result.quarter == '2022Q1') & (result.index_name == 'SOX')].fluct_rate,\n",
    "     result[(result.quarter == '2022Q1') & (result.index_name == 'NDX')].fluct_rate],\n",
    "\n",
    "    # Quarter 2\n",
    "    [result[(result.quarter == '2022Q2') & (result.index_name == '300')].fluct_rate,\n",
    "     result[(result.quarter == '2022Q2') & (result.index_name == '400')].fluct_rate,\n",
    "     result[(result.quarter == '2022Q2') & (result.index_name == '500')].fluct_rate,\n",
    "     result[(result.quarter == '2022Q2') & (result.index_name == 'D30')].fluct_rate,\n",
    "     result[(result.quarter == '2022Q2') & (result.index_name == 'IA')].fluct_rate,\n",
    "     result[(result.quarter == '2022Q2') & (result.index_name == 'DSI')].fluct_rate,\n",
    "     result[(result.quarter == '2022Q2') & (result.index_name == 'NQGI')].fluct_rate,\n",
    "     result[(result.quarter == '2022Q2') & (result.index_name == 'SOX')].fluct_rate,\n",
    "     result[(result.quarter == '2022Q2') & (result.index_name == 'NDX')].fluct_rate],\n",
    "\n",
    "    # Quarter 3\n",
    "    [result[(result.quarter == '2022Q3') & (result.index_name == '300')].fluct_rate,\n",
    "     result[(result.quarter == '2022Q3') & (result.index_name == '400')].fluct_rate,\n",
    "     result[(result.quarter == '2022Q3') & (result.index_name == '500')].fluct_rate,\n",
    "     result[(result.quarter == '2022Q3') & (result.index_name == 'D30')].fluct_rate,\n",
    "     result[(result.quarter == '2022Q3') & (result.index_name == 'IA')].fluct_rate,\n",
    "     result[(result.quarter == '2022Q3') & (result.index_name == 'DSI')].fluct_rate,\n",
    "     result[(result.quarter == '2022Q3') & (result.index_name == 'NQGI')].fluct_rate,\n",
    "     result[(result.quarter == '2022Q3') & (result.index_name == 'SOX')].fluct_rate,\n",
    "     result[(result.quarter == '2022Q3') & (result.index_name == 'NDX')].fluct_rate],\n",
    "\n",
    "    # Quarter 4\n",
    "    [result[(result.quarter == '2022Q4') & (result.index_name == '300')].fluct_rate,\n",
    "     result[(result.quarter == '2022Q4') & (result.index_name == '400')].fluct_rate,\n",
    "     result[(result.quarter == '2022Q4') & (result.index_name == '500')].fluct_rate,\n",
    "     result[(result.quarter == '2022Q4') & (result.index_name == 'D30')].fluct_rate,\n",
    "     result[(result.quarter == '2022Q4') & (result.index_name == 'IA')].fluct_rate,\n",
    "     result[(result.quarter == '2022Q4') & (result.index_name == 'DSI')].fluct_rate,\n",
    "     result[(result.quarter == '2022Q4') & (result.index_name == 'NQGI')].fluct_rate,\n",
    "     result[(result.quarter == '2022Q4') & (result.index_name == 'SOX')].fluct_rate,\n",
    "     result[(result.quarter == '2022Q4') & (result.index_name == 'NDX')].fluct_rate]\n",
    "]\n",
    "\n",
    "# Create a DataFrame using the data with specified column and index names\n",
    "quarter_index_fluctrate_df = pd.DataFrame(quarter_index_fluctrate_data, \n",
    "                                          columns=['D30', 'DSI', 'IA', '400', '500', '300', 'SOX', 'NDX', 'NQGI'], \n",
    "                                          index=['Q1', 'Q2', 'Q3', 'Q4'])\n",
    "\n",
    "# Display the DataFrame\n",
    "quarter_index_fluctrate_df.head()\n"
   ]
  },
  {
   "cell_type": "code",
   "execution_count": null,
   "metadata": {
    "colab": {
     "base_uri": "https://localhost:8080/",
     "height": 406
    },
    "id": "6Y0mVEevyCV_",
    "outputId": "0dcc65ab-a785-40eb-90db-c66421ae158a"
   },
   "outputs": [],
   "source": [
    "# Display a heatmap using Matplotlib's imshow function with specified data and colormap\n",
    "plt.imshow(quarter_index_fluctrate_data, cmap='YlOrBr')\n",
    "\n",
    "# Add a color bar to the heatmap for reference\n",
    "cbar = plt.colorbar()\n",
    "\n",
    "# Set the title of the heatmap\n",
    "plt.title(\"Heatmap of Average Fluctuation Rate for Indexes\\nAcross Different Quarters\")\n",
    "\n",
    "# Set labels for x and y axes\n",
    "plt.xlabel(\"Index\")\n",
    "plt.ylabel(\"Quarters\")\n",
    "\n",
    "# Set the tick positions and labels for x-axis (Indexes) with rotation\n",
    "plt.xticks(range(len(quarter_index_fluctrate_df.columns)),\n",
    "           quarter_index_fluctrate_df.columns, rotation=90)\n",
    "\n",
    "# Set the tick positions and labels for y-axis (Quarters)\n",
    "plt.yticks(range(len(quarter_index_fluctrate_df.index)),\n",
    "           quarter_index_fluctrate_df.index)\n",
    "\n",
    "# Display the heatmap\n",
    "plt.show()\n"
   ]
  },
  {
   "cell_type": "markdown",
   "metadata": {},
   "source": [
    "**Observations and Insights from the Heatmap:**\n",
    "\n",
    "In examining all indexes, a consistent trend emerges with an average fluctuation rate hovering around 15-16. However, notable exceptions include NDX and SOX, where the average fluctuation rate in quarter 1 was notably high, indicating heightened volatility during the initial months of the year. Interestingly, this volatility subsided in the subsequent months. On the flip side, NQGI exhibited the lowest average fluctuation rate among all indexes in quarter 1, and it continued to stabilize around 15 as the year progressed. Similar trends of stabilization were observed in several other indexes, although they remained relatively volatile. "
   ]
  },
  {
   "cell_type": "code",
   "execution_count": null,
   "metadata": {},
   "outputs": [],
   "source": [
    "# Histogram\n",
    "\n",
    "# Fluctuation Rate Histogram\n",
    "plt.hist(dj_data['fluct_rate'],color = 'cornflowerblue', histtype = 'bar')\n",
    "# x-axis label\n",
    "plt.xlabel('Fluctuation')\n",
    "# frequency label\n",
    "plt.ylabel('')\n",
    "# plot title\n",
    "plt.title('DJ Fluctuation Rate histogram')\n",
    "# function to show the plot\n",
    "plt.show()\n"
   ]
  },
  {
   "cell_type": "code",
   "execution_count": null,
   "metadata": {},
   "outputs": [],
   "source": [
    "# Fluctuation Rate Histogram\n",
    "plt.hist(nasdaq_data['fluct_rate'],color = 'orange', histtype = 'bar')\n",
    "# x-axis label\n",
    "plt.xlabel('Fluctuation')\n",
    "# frequency label\n",
    "plt.ylabel('')\n",
    "# plot title\n",
    "plt.title('NASDAQ Fluctuation Rate histogram')\n",
    "# function to show the plot\n",
    "plt.show()\n"
   ]
  },
  {
   "cell_type": "code",
   "execution_count": null,
   "metadata": {},
   "outputs": [],
   "source": [
    "# Fluctuation Rate Histogram\n",
    "plt.hist(snp_data['fluct_rate'],color = 'green', histtype = 'bar')\n",
    "# x-axis label\n",
    "plt.xlabel('Fluctuation')\n",
    "# frequency label\n",
    "plt.ylabel('')\n",
    "# plot title\n",
    "plt.title('SNP Fluctation Rate histogram')\n",
    "# function to show the plot\n",
    "plt.show()\n"
   ]
  },
  {
   "cell_type": "markdown",
   "metadata": {},
   "source": [
    "**Observations and Insights from the Histograms:**\n",
    "\n",
    "- Normal Distribution:\n",
    "  - All histograms exhibit a typical bell-shaped curve centered around a fluctuation rate of 15.\n",
    "\n",
    "- Higher Frequency in NASDAQ:\n",
    "  - Noticeable spike in frequency for fluctuation rates between 15 to 17.5.\n",
    "  - Particularly evident in NASDAQ company indexes ('SOX,' 'NDX,' 'NQGI').\n",
    "\n",
    "- Insight for Heatmap:\n",
    "  - Supports the higher average fluctuation rate observed in the Heatmap.\n",
    "  - Suggests that NASDAQ indexes experience relatively more significant fluctuations compared to others."
   ]
  },
  {
   "cell_type": "code",
   "execution_count": null,
   "metadata": {},
   "outputs": [],
   "source": [
    "# Scatter Plot\n",
    "\n",
    "# Group the 'stock' DataFrame by 'date' and calculate the mean of 'price' and 'fluct_rate' for each date\n",
    "result_scatter = stock.groupby(['date']).agg({'price': 'mean', 'fluct_rate': 'mean'}).reset_index()\n",
    "\n",
    "# Set the style of the Seaborn plots to white grid\n",
    "sns.set(style=\"whitegrid\")\n",
    "\n",
    "# Create a scatter plot using Seaborn with specified parameters\n",
    "plt.figure(figsize=(10, 6))\n",
    "scatter = sns.scatterplot(x='price', y='fluct_rate', data=result_scatter, palette=None, marker=\"o\", s=100) \n",
    "# Set labels for x and y axes\n",
    "plt.xlabel('Avg Price')\n",
    "plt.ylabel('Avg Fluctuation Rate')\n",
    "\n",
    "# Set the title of the plot\n",
    "plt.title('Scatter Plot of Avg Fluctuation Rate VS Avg Price for All Indexes in 2022')\n",
    "\n",
    "# Display the plot\n",
    "plt.show()"
   ]
  },
  {
   "cell_type": "markdown",
   "metadata": {},
   "source": [
    "**Observations and Insights from the Scatter Plot:**\n",
    "\n",
    "- Non-Linear Relationship: There isn't a straightforward linear correlation between average price and average fluctuation rate across all indexes.\n",
    "\n",
    "- Cluster Formation: Notably, a tight cluster emerges around a mean price of 250 and a mean fluctuation rate of 15.This close grouping suggests a potential strong correlation between these variables and implies a level of stability. \n",
    "\n",
    "- Trading Range Identification: Understanding this typical price movement within a certain range could be valuable for traders and investors in their decision-making processes."
   ]
  },
  {
   "cell_type": "code",
   "execution_count": null,
   "metadata": {},
   "outputs": [],
   "source": [
    "# Bar Chart\n",
    "\n",
    "DJIndexes = ['D30','DSI','IA']\n",
    "Quarters = ['Q1', 'Q2','Q3', 'Q4']\n",
    "\n",
    "for idx in DJIndexes:\n",
    "    # Calculate average pricesfor each quarter\n",
    "    average_price_Q1 = stock[(stock['month'].isin([1, 2, 3])) & (stock['year'] == 2022) & (stock['index_name'] == idx)]['price'].mean()\n",
    "    average_price_Q2 = stock[(stock['month'].isin([4, 5, 6])) & (stock['year'] == 2022) & (stock['index_name'] == idx)]['price'].mean()\n",
    "    average_price_Q3 = stock[(stock['month'].isin([7, 8, 9])) & (stock['year'] == 2022) & (stock['index_name'] == idx)]['price'].mean()\n",
    "    average_price_Q4 = stock[(stock['month'].isin([10, 11, 12])) & (stock['year'] == 2022) & (stock['index_name'] == idx)]['price'].mean()\n",
    "    \n",
    "    # Create a DataFrame for the average prices\n",
    "    Average_Price = [average_price_Q1,average_price_Q2,average_price_Q3,average_price_Q4]\n",
    "\n",
    "    # Plot the stacked bar chart\n",
    "    plt.bar(Quarters, Average_Price , width =0.5, color = ['green', 'yellow','orange','red'])\n",
    "\n",
    "    #Setting the limits for the bar chart\n",
    "    start_value = 200\n",
    "    end_value = 270\n",
    "    step = 5\n",
    "    plt.ylim(start_value, end_value)\n",
    "    plt.yticks(range(start_value, end_value + 1, step))\n",
    "\n",
    "    # Naming the x-axis\n",
    "    plt.xlabel('Quarters')\n",
    "    # Naming the y-axis\n",
    "    plt.ylabel('Average Price')\n",
    "    # plot title\n",
    "    plt.title('Average Price for Quarters 1 to 4 in 2022 for DJ ' + idx + ' index')\n",
    "    # Display the plot\n",
    "    plt.show()"
   ]
  },
  {
   "cell_type": "markdown",
   "metadata": {},
   "source": [
    "**Observations and Insights from the Bar Charts:**\n",
    "\n",
    "Upon detailed analysis of individual indexes within the DJ company (D30, DSI, IA), a discernible trend emerges in the mean price over each quarter.\n",
    "\n",
    "- D30 and IA Performance Trend: Both D30 and IA exhibit a decreasing trend in mean price over successive quarters. This suggests a strong performance at the beginning of the year followed by a decline in the subsequent quarters. \n",
    "\n",
    "- DSI Performance Consistency: In contrast, DSI demonstrates relatively consistent performance across quarters, except for a dip in mean price during quarter 2. \n",
    "\n",
    "- Factors Influencing Price Decline: Declines in mean price for underperforming indexes, especially in specific quarters, may result from internal (management changes, operational issues) and external (global events, exchange board changes) factors. Understanding these is crucial for assessing overall performance."
   ]
  },
  {
   "cell_type": "code",
   "execution_count": null,
   "metadata": {},
   "outputs": [],
   "source": [
    "# Line Plot\n",
    "\n",
    "# Group data by company, month, and year, then calculate the mean price\n",
    "result_line = stock.groupby(['company', 'month', 'year'])['price'].mean().reset_index()\n",
    "\n",
    "# Filter data for the year 2022\n",
    "result_line_2022 = result_line[result_line['year'] == 2022]\n",
    "\n",
    "# Separate data for each company\n",
    "result_line_2022_DJ = result_line_2022[result_line_2022['company'] == 'DJ']\n",
    "result_line_2022_NASDAQ = result_line_2022[result_line_2022['company'] == 'NASDAQ']\n",
    "result_line_2022_SNP = result_line_2022[result_line_2022['company'] == 'SNP']\n",
    "\n",
    "# Plotting the data for each company\n",
    "plt.plot(result_line_2022_SNP['month'], result_line_2022_SNP['price'], label='SNP')\n",
    "plt.plot(result_line_2022_NASDAQ['month'], result_line_2022_NASDAQ['price'], label='NASDAQ')\n",
    "plt.plot(result_line_2022_DJ['month'], result_line_2022_DJ['price'], label='DJ')\n",
    "\n",
    "# Adding labels to the x and y axes\n",
    "plt.xlabel('Month')  # x-axis label\n",
    "plt.ylabel('Average Price')  # y-axis label\n",
    "\n",
    "# Adding a legend to identify each line\n",
    "plt.legend(loc='best')\n",
    "\n",
    "# Display the plot\n",
    "plt.show()\n"
   ]
  },
  {
   "cell_type": "markdown",
   "metadata": {},
   "source": [
    "**Observations and Insights from the Line Plot:**\n",
    "\n",
    "- NASDAQ Fluctuations:\n",
    "  - Sudden decrease in average price in the second month.\n",
    "  - Subsequent rapid increase, indicating high variability compared to SNP and DJ.\n",
    "\n",
    "- General Trend for All Companies:\n",
    "  - Overall decreasing trend in average price over the financial year.\n",
    "\n",
    "- Stabilization Around Mean of 250:\n",
    "  - Companies eventually settle, showing a stable pattern around an average of 250."
   ]
  },
  {
   "cell_type": "markdown",
   "metadata": {},
   "source": [
    "**Conclusion**\n",
    "\n",
    "- Dominance of mid-sized and smaller companies.\n",
    "- Limited companies operate with substantial capital.\n",
    "- SNP large-cap indexes (300, 400, 500) show balanced distribution.Consistent fluctuation rate trend around 15-16 across all indexes.Exceptions in NDX and SOX with heightened volatility in Quarter 1.\n",
    "- The overall indexes in DJ company is the most stable of the three companies, suggesting that its price is least likely to collapse or yield a significant.\n",
    "- Tight cluster around mean price of 250 and mean fluctuation rate of 15 suggests strong correlation and stability at the end of financial year.\n",
    "- D30 and IA Indexes exhibit declining mean price trend over the financial year. Price decline probably influenced by internal (management changes, operational issues) and external (global events, exchange board changes) factors. This may help potential investors in predicting the market and help make better investment decisions\n"
   ]
  }
 ],
 "metadata": {
  "colab": {
   "provenance": []
  },
  "kernelspec": {
   "display_name": "Python 3 (ipykernel)",
   "language": "python",
   "name": "python3"
  },
  "language_info": {
   "codemirror_mode": {
    "name": "ipython",
    "version": 3
   },
   "file_extension": ".py",
   "mimetype": "text/x-python",
   "name": "python",
   "nbconvert_exporter": "python",
   "pygments_lexer": "ipython3",
   "version": "3.11.4"
  }
 },
 "nbformat": 4,
 "nbformat_minor": 1
}
